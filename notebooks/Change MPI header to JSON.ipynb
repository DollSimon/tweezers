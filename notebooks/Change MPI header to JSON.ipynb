{
 "metadata": {
  "name": "",
  "signature": "sha256:24e1b2a4fdeb118b30293647f1e8b39ba93677d946770b42dad71beb9687c22e"
 },
 "nbformat": 3,
 "nbformat_minor": 0,
 "worksheets": [
  {
   "cells": [
    {
     "cell_type": "code",
     "collapsed": false,
     "input": [
      "%load_ext autoreload\n",
      "%autoreload 2\n",
      "from ixo.file import get_files\n",
      "from tweezer.io import TxtSourceMpi\n",
      "from tweezer import TweezerData"
     ],
     "language": "python",
     "metadata": {},
     "outputs": [],
     "prompt_number": 2
    },
    {
     "cell_type": "code",
     "collapsed": false,
     "input": [
      "path = '/Users/christophehrlich/Documents/TranscriptionData/header_change_test/'\n",
      "files = get_files(path, suffix='.txt', recursive=True)\n",
      "\n",
      "for file in files:\n",
      "    print('Processing: ' + str(file))\n",
      "    source = TxtSourceMpi(file)\n",
      "    # skip files that already have the JSON header\n",
      "    if source.data.isJson:\n",
      "        continue\n",
      "    data = TweezerData(source)\n",
      "    source.write_data(data)"
     ],
     "language": "python",
     "metadata": {},
     "outputs": [
      {
       "output_type": "stream",
       "stream": "stdout",
       "text": [
        "Processing: /Users/christophehrlich/Documents/TranscriptionData/header_change_test/data/16_Date_2014_08_12_13_19_12.txt\n",
        "Processing: /Users/christophehrlich/Documents/TranscriptionData/header_change_test/data/2_zoom_from_17s_to_183s.txt\n",
        "Processing: /Users/christophehrlich/Documents/TranscriptionData/header_change_test/data/35_Date_2014_08_18_15_55_29.txt\n",
        "Processing: /Users/christophehrlich/Documents/TranscriptionData/header_change_test/data/38.Datalog.2014.06.18.23.01.27.datalog.txt"
       ]
      },
      {
       "output_type": "stream",
       "stream": "stdout",
       "text": [
        "\n",
        "Processing: /Users/christophehrlich/Documents/TranscriptionData/header_change_test/data/matlab/35_Date_2014_08_18_15_55_29.txt\n",
        "Processing: /Users/christophehrlich/Documents/TranscriptionData/header_change_test/data/matlab/averaged_to_1/av_35_Date_2014_08_18_15_55_29.txt"
       ]
      },
      {
       "output_type": "stream",
       "stream": "stdout",
       "text": [
        "\n"
       ]
      }
     ],
     "prompt_number": 3
    },
    {
     "cell_type": "code",
     "collapsed": false,
     "input": [],
     "language": "python",
     "metadata": {},
     "outputs": []
    }
   ],
   "metadata": {}
  }
 ]
}