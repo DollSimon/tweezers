{
 "cells": [
  {
   "cell_type": "markdown",
   "metadata": {},
   "source": [
    "## File style conversion\n",
    "\n",
    "Use this notebook to convert the MPI-styled headers to the new JSON format.\\\\"
   ]
  },
  {
   "cell_type": "code",
   "execution_count": 1,
   "metadata": {
    "collapsed": false
   },
   "outputs": [],
   "source": [
    "%load_ext autoreload\n",
    "%autoreload 2\n",
    "\n",
    "import re\n",
    "from ixo.file import getFiles\n",
    "from tweezers.io import TxtMpiSource\n",
    "from tweezers import TweezersData"
   ]
  },
  {
   "cell_type": "code",
   "execution_count": 2,
   "metadata": {
    "collapsed": true
   },
   "outputs": [],
   "source": [
    "# Where are the original files?\n",
    "inputPath = '../tweezers/data/man_data/'\n",
    "# Where should we store the converted ones?\n",
    "outputPath = '../tweezers/data/man_data/JSON/'"
   ]
  },
  {
   "cell_type": "code",
   "execution_count": 3,
   "metadata": {
    "collapsed": false
   },
   "outputs": [],
   "source": [
    "# get all files\n",
    "files = getFiles(inputPath, suffix='.txt', recursive=True)\n",
    "\n",
    "# sort them\n",
    "dataFiles = []\n",
    "tsFiles = []\n",
    "psdFiles = []\n",
    "for file in files:\n",
    "    if file.name[0].isdigit():\n",
    "        dataFiles.append(file)\n",
    "    elif file.name.startswith('TS_'):\n",
    "        tsFiles.append(file)\n",
    "    elif file.name.startswith('PSD_'):\n",
    "        psdFiles.append(file)\n",
    "\n",
    "# find matching files in psd and ts\n",
    "tsRegex = re.compile('^TS_(?P<name>.*?)\\.txt$')\n",
    "psdRegex = re.compile('^PSD_(?P<name>.*?)\\.txt$')\n",
    "dataRegex = re.compile('^(?P<name>.*?)(_zoom.*)?\\.txt$')\n",
    "matchedFiles = []\n",
    "\n",
    "for dataFile in dataFiles:\n",
    "    dataName = dataRegex.match(dataFile.name).groupdict()['name']\n",
    "    tsFileFound = None\n",
    "    psdFileFound = None\n",
    "    \n",
    "    for tsFile in tsFiles:\n",
    "        tsName = tsRegex.match(tsFile.name).groupdict()['name']\n",
    "        if tsName == dataName and tsFile.parents[1] == dataFile.parents[1]:\n",
    "            tsFileFound = tsFile\n",
    "            \n",
    "    for psdFile in psdFiles:\n",
    "        psdName = psdRegex.match(psdFile.name).groupdict()['name']\n",
    "        if psdName == dataName and psdFile.parents[1] == dataFile.parents[1]:\n",
    "            psdFileFound = psdFile\n",
    "    \n",
    "    matchedFiles.append([dataFile, tsFileFound, psdFileFound])"
   ]
  },
  {
   "cell_type": "code",
   "execution_count": 4,
   "metadata": {
    "collapsed": false
   },
   "outputs": [
    {
     "name": "stderr",
     "output_type": "stream",
     "text": [
      "INFO:root:Reading timeseries from data source.\n",
      "INFO:root:Reading PSD from data source.\n",
      "INFO:root:Reading data from data source.\n",
      "INFO:root:Reading metadata from data source.\n"
     ]
    },
    {
     "name": "stdout",
     "output_type": "stream",
     "text": [
      "Processing: ../tweezers/data/man_data/35_Date_2014_08_18_15_55_29.txt\n",
      "Processing: ../tweezers/data/man_data/JSON/man_data/35_Date_2014_08_18_15_55_29.txt\n"
     ]
    }
   ],
   "source": [
    "for files in matchedFiles:\n",
    "    print('Processing: ' + str(files[0]))\n",
    "    source = TxtMpiSource(data=files[0], ts=files[1], psd=files[2])\n",
    "    # skip files that already have the JSON header\n",
    "    if source.data.isJson:\n",
    "        continue\n",
    "    data = TweezersData(source)\n",
    "    source.save(data, path=outputPath)"
   ]
  },
  {
   "cell_type": "code",
   "execution_count": null,
   "metadata": {
    "collapsed": false
   },
   "outputs": [],
   "source": []
  }
 ],
 "metadata": {
  "kernelspec": {
   "display_name": "Python 3",
   "language": "python",
   "name": "python3"
  },
  "language_info": {
   "codemirror_mode": {
    "name": "ipython",
    "version": 3
   },
   "file_extension": ".py",
   "mimetype": "text/x-python",
   "name": "python",
   "nbconvert_exporter": "python",
   "pygments_lexer": "ipython3",
   "version": "3.4.3"
  }
 },
 "nbformat": 4,
 "nbformat_minor": 0
}
