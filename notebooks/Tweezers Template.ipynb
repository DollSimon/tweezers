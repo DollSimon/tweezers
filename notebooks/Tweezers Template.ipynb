{
 "cells": [
  {
   "cell_type": "markdown",
   "metadata": {},
   "source": [
    "# Import"
   ]
  },
  {
   "cell_type": "code",
   "execution_count": 1,
   "metadata": {
    "collapsed": true
   },
   "outputs": [],
   "source": [
    "%load_ext autoreload\n",
    "%autoreload 2\n",
    "%matplotlib notebook\n",
    "# %matplotlib inline\n",
    "\n",
    "import numpy as np\n",
    "import scipy as sp\n",
    "import pandas as pd\n",
    "import matplotlib as mpl\n",
    "import matplotlib.pyplot as plt\n",
    "import seaborn as sns\n",
    "from pathlib import Path\n",
    "\n",
    "from tweezers import TweezersData, TweezersDataCollection, TweezersAnalysis, TweezersAnalysisCollection\n",
    "from tweezers.io import Hdf5BiotecSource\n",
    "from tweezers.ixo.fit import LeastSquaresFit\n",
    "import tweezers.analysis.tools as at\n",
    "import tweezers.ixo.statistics as stat\n",
    "import tweezers.physics.polymers as pol\n",
    "from tweezers.ixo import io\n",
    "# from tweezers.ixo.utils import configLogger\n",
    "# configLogger(debug=True)\n",
    "\n",
    "# plotting options\n",
    "sns.set_context('talk')\n",
    "plt.style.use('fivethirtyeight')\n",
    "params = {'figure.facecolor': 'ffffff',\n",
    "          'patch.force_edgecolor': True,\n",
    "          'lines.linewidth': 2,\n",
    "          'figure.figsize': (6.0, 4.5),\n",
    "          'figure.constrained_layout.use': True,\n",
    "#           'figure.dpi': 150,\n",
    "#           'text.usetex': True,\n",
    "#           'text.latex.preamble': [r'\\usepackage{siunitx}',\n",
    "#                                   r'\\usepackage{lmodern}',\n",
    "#                                   r'\\setlength{\\parindent}{0cm}']\n",
    "         }\n",
    "mpl.rcParams.update(params)\n",
    "\n",
    "dataPath = Path('/Users/cehrlich/Documents/Tweezers Data/2020-07 MCB EEA1')"
   ]
  },
  {
   "cell_type": "markdown",
   "metadata": {},
   "source": [
    "# Load Data"
   ]
  },
  {
   "cell_type": "code",
   "execution_count": null,
   "metadata": {},
   "outputs": [],
   "source": [
    "path = dataPath / '8kb handles'\n",
    "ac = TweezersAnalysisCollection.load(path)\n",
    "\n",
    "for a in ac.values():\n",
    "    # hydrodynamic corrections\n",
    "    at.osciHydrodynamicCorr(a)\n",
    "    # baseline and video corrections\n",
    "    at.baselineSubtraction(a, binBsl=50)\n",
    "    at.zeroDistance(a)\n",
    "    at.displacementCorrection(a, lowForceLimit=5)\n",
    "    at.detectRip(a)\n",
    "# at.analysisSummaryFig(ac, path)\n",
    "acl = ac"
   ]
  },
  {
   "cell_type": "markdown",
   "metadata": {},
   "source": [
    "# Analysis"
   ]
  },
  {
   "cell_type": "code",
   "execution_count": null,
   "metadata": {
    "collapsed": true
   },
   "outputs": [],
   "source": []
  }
 ],
 "metadata": {
  "anaconda-cloud": {},
  "kernelspec": {
   "display_name": "Python [conda env:tweezers]",
   "language": "python",
   "name": "conda-env-tweezers-py"
  },
  "language_info": {
   "codemirror_mode": {
    "name": "ipython",
    "version": 3
   },
   "file_extension": ".py",
   "mimetype": "text/x-python",
   "name": "python",
   "nbconvert_exporter": "python",
   "pygments_lexer": "ipython3",
   "version": "3.7.6"
  },
  "nav_menu": {},
  "toc": {
   "base_numbering": 1,
   "nav_menu": {
    "height": "66px",
    "width": "252px"
   },
   "number_sections": true,
   "sideBar": true,
   "skip_h1_title": false,
   "title_cell": "Table of Contents",
   "title_sidebar": "Contents",
   "toc_cell": false,
   "toc_position": {
    "height": "calc(100% - 180px)",
    "left": "10px",
    "top": "150px",
    "width": "279.1875px"
   },
   "toc_section_display": "block",
   "toc_window_display": true
  },
  "toc_position": {
   "height": "610px",
   "left": "0px",
   "right": "20px",
   "top": "106px",
   "width": "190px"
  }
 },
 "nbformat": 4,
 "nbformat_minor": 1
}
