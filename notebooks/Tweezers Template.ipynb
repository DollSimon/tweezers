{
 "cells": [
  {
   "cell_type": "markdown",
   "metadata": {},
   "source": [
    "## Import"
   ]
  },
  {
   "cell_type": "code",
   "execution_count": null,
   "metadata": {
    "collapsed": false
   },
   "outputs": [],
   "source": [
    "%load_ext autoreload\n",
    "%autoreload 2\n",
    "%matplotlib notebook\n",
    "\n",
    "import numpy as np\n",
    "import scipy.constants as const\n",
    "import pandas as pd\n",
    "import matplotlib.pyplot as plt\n",
    "import seaborn as sns\n",
    "import matplotlib as mpl\n",
    "\n",
    "from tweezers import TweezersData\n",
    "from tweezers.io import getAllIds, loadIds, loadSegments\n",
    "from tweezers.plot.psd import PsdPlot, PsdFitPlot\n",
    "from tweezers.collections import TweezersCollection\n",
    "from tweezers.ixo.fit import LeastSquaresFit\n",
    "from tweezers.plot.interactive import SegmentSelector\n",
    "# from tweezers.ixo.utils import configLogger\n",
    "# configLogger(debug=True)\n",
    "\n",
    "# plotting options\n",
    "sns.set_context('poster')\n",
    "params = {'figure.figsize': (8.0, 5.0),\n",
    "          'text.usetex': True,\n",
    "          'text.latex.preamble': [r'\\usepackage{siunitx}',\n",
    "                                  r'\\usepackage{lmodern}']}\n",
    "mpl.rcParams.update(params)\n",
    "\n",
    "path = '/Users/christophehrlich/Documents/Tweezers Data/'\n",
    "ids = getAllIds(path)\n",
    "tc = loadIds(ids)\n",
    "pathOut = '/Users/christophehrlich/Documents/Tweezers Biotec/'"
   ]
  },
  {
   "cell_type": "markdown",
   "metadata": {},
   "source": [
    "## Segment Selection"
   ]
  },
  {
   "cell_type": "code",
   "execution_count": null,
   "metadata": {
    "collapsed": false,
    "scrolled": false
   },
   "outputs": [],
   "source": [
    "css = SegmentSelector(tc, 'pmYForce')"
   ]
  },
  {
   "cell_type": "markdown",
   "metadata": {},
   "source": [
    "## Analysis"
   ]
  },
  {
   "cell_type": "code",
   "execution_count": null,
   "metadata": {
    "collapsed": true
   },
   "outputs": [],
   "source": []
  }
 ],
 "metadata": {
  "anaconda-cloud": {},
  "kernelspec": {
   "display_name": "Python [default]",
   "language": "python",
   "name": "python3"
  },
  "language_info": {
   "codemirror_mode": {
    "name": "ipython",
    "version": 3
   },
   "file_extension": ".py",
   "mimetype": "text/x-python",
   "name": "python",
   "nbconvert_exporter": "python",
   "pygments_lexer": "ipython3",
   "version": "3.5.2"
  },
  "nav_menu": {},
  "toc": {
   "colors": {
    "hover_highlight": "#DAA520",
    "running_highlight": "#FF0000",
    "selected_highlight": "#FFD700"
   },
   "moveMenuLeft": true,
   "nav_menu": {
    "height": "66px",
    "width": "252px"
   },
   "navigate_menu": true,
   "number_sections": false,
   "sideBar": true,
   "threshold": 6,
   "toc_cell": false,
   "toc_section_display": "block",
   "toc_window_display": true
  },
  "toc_position": {
   "height": "610px",
   "left": "0px",
   "right": "20px",
   "top": "106px",
   "width": "190px"
  }
 },
 "nbformat": 4,
 "nbformat_minor": 0
}
