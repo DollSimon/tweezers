{
 "metadata": {
  "name": ""
 },
 "nbformat": 3,
 "nbformat_minor": 0,
 "worksheets": [
  {
   "cells": [
    {
     "cell_type": "code",
     "collapsed": false,
     "input": [
      "#Module for calibration\n",
      "\n",
      "from tweezer.single.thermal_calibration import *\n",
      "\n",
      "\n",
      "#Additional necessary modules\n",
      "from tweezer.physics import thermal_energy, drag_sphere as dg_sph, dynamic_viscosity_of_mixture, as_Kelvin\n",
      "from tweezer.simulate.trap import *\n",
      "\n",
      "\n",
      "#Non-necessary modules\n",
      "import seaborn as sns"
     ],
     "language": "python",
     "metadata": {},
     "outputs": [],
     "prompt_number": 1
    },
    {
     "cell_type": "code",
     "collapsed": false,
     "input": [
      "#There are three calibration functions:\n",
      "#1. calibration_file: given a time series file, it performs the thermal calibration of the PM and the AOD in the y direction\n",
      "#2. calibration_time_series: given a single set of time series, it performs the thermal calibration\n",
      "#3. calibration_psd: given a single set of power spectrum data, it performs the thermal calibration\n",
      "\n",
      "#All of them share almost the same input parameters. For more info check the docs\n"
     ],
     "language": "python",
     "metadata": {},
     "outputs": [],
     "prompt_number": 2
    },
    {
     "cell_type": "code",
     "collapsed": false,
     "input": [
      "#It is useful to define the physical constants in the beginning:\n",
      "\n",
      "userT = 25 #in degrees\n",
      "userRadii = [1050, 1050] #in nm\n",
      "userViscosity = 1e-6*dynamic_viscosity_of_mixture(90, 10, userT) #the factor 1e-6 is necessary to match units\n",
      "\n",
      "#To be used later, can be changed\n",
      "blockLength = 2**14 #length of each of the blocks of the time series whose psd's will be averaged\n",
      "overlap = 0 #number of overlapping points between blocks\n",
      "sFreq = 80000 #sampling frequency in Hz\n",
      "userStiffness = 0.1 #in pN/nm"
     ],
     "language": "python",
     "metadata": {},
     "outputs": [],
     "prompt_number": 3
    },
    {
     "cell_type": "code",
     "collapsed": false,
     "input": [
      "#If you have a file, go ahead and try the function calibration_file\n",
      "\n",
      "filePath=\"the_path_to_your_file_here\"\n",
      "\n",
      "fit = calibration_file(filePath)\n",
      "\n",
      "#Of course, you can (and should!) specify at least the most relevant parameters:\n",
      "\n",
      "fit = calibration_file(filePath, viscosity=userViscosity, T=userT,\n",
      "                       radii=userRadii, plot=True)\n",
      "\n",
      "#You can access different values from the fit:\n",
      "print(\"Accesible values from the fit:\", fit._fields)\n",
      "#For example:\n",
      "print(\"Corner frequency =\", fit.fc[0], \"+/-\", fit.sigma[1][0], \"Hz\")\n",
      "print(\"Trap stiffnes =\", fit.kappa[0], \"+/-\", fit.errorKappa[0], \"pN/nm\")\n",
      "\n",
      "#If you are not satisfied with how the fit looks, you can try to change some of the following parameters:\n",
      "#blockLength, overlap, maxLim"
     ],
     "language": "python",
     "metadata": {},
     "outputs": [
      {
       "output_type": "stream",
       "stream": "stdout",
       "text": [
        "Accesible values from the fit: ('D', 'fc', 'sigma', 'beta', 'kappa', 'errorBeta', 'errorKappa', 'limits')\n",
        "Corner frequency = 1759.303053316143 +/- 0.000543957328457 Hz\n",
        "Trap stiffnes = 0.2668632446424873 +/- 0.00176279105442 Hz\n"
       ]
      }
     ],
     "prompt_number": 4
    },
    {
     "cell_type": "code",
     "collapsed": false,
     "input": [
      "#In case you do not have any file at the moment, let's check the other two functions.\n",
      "#For that, we can simulate a bead in a laser trap, with a function included in the tweezer package\n",
      "\n",
      "simulatedTimeSeries = simulate_trap(dataPoints=2**19, timeStep=1/80000, viscosity=userViscosity, radius=userRadii[0], \n",
      "                                    temperature=userT, trapStiffness=userStiffness)\n",
      "\n",
      "#In this example we use the number of data points and the time step matching the data recorded by the tweezer in MPI\n",
      "#We are interested in the position of the bead, not in the time or the velocity:\n",
      "\n",
      "simulatedTimeSeriesPosition = simulatedTimeSeries[\"x\"]\n",
      "\n",
      "\n",
      "#We can calibrate this data using the calibration_time_series function:\n",
      "\n",
      "fitSimulation = calibration_time_series(simulatedTimeSeriesPosition, viscosity=userViscosity, T=userT,\n",
      "                       radius=userRadii[0], plot=True)\n",
      "\n",
      "#Again, you can access different values from the fit:\n",
      "print(fitSimulation._fields)\n",
      "#For example:\n",
      "print(\"Trap stiffness =\", fitSimulation.kappa, \"+/-\", fitSimulation.eKappa, \"pN/nm\")"
     ],
     "language": "python",
     "metadata": {},
     "outputs": [
      {
       "output_type": "stream",
       "stream": "stdout",
       "text": [
        "('D', 'fc', 'sigma', 'beta', 'kappa', 'eBeta', 'eKappa', 'limits')\n",
        "Trap stiffness = 0.09986160950972339 +/- 0.0011075905035 pN/nm\n"
       ]
      }
     ],
     "prompt_number": 5
    },
    {
     "cell_type": "code",
     "collapsed": false,
     "input": [
      "#Finally, if you already have you power spectrum data, you can calibrate it with the calibration_psd function\n",
      "#Let's generate some spectrum from the simulated data\n",
      "\n",
      "psdSimulation = calculate_psd(simulatedTimeSeriesPosition, blockLength, sFreq, overlap)\n",
      "\n",
      "fitPsd = calibration_psd(psdSimulation, viscosity=userViscosity, T=userT,\n",
      "                       radius=userRadii[0], plot=True)"
     ],
     "language": "python",
     "metadata": {},
     "outputs": [],
     "prompt_number": 6
    },
    {
     "cell_type": "code",
     "collapsed": false,
     "input": [
      "#It is interesting to compare the real data with the corresponding simulated data:\n",
      "\n",
      "#Read the data from the file:\n",
      "data = read_time_series(filePath)\n",
      "\n",
      "#Power Spectrum of the PM data\n",
      "dataPsdComparison = calculate_psd(data[\"PM\"], blockLength, sFreq, overlap)"
     ],
     "language": "python",
     "metadata": {},
     "outputs": [],
     "prompt_number": 7
    },
    {
     "cell_type": "code",
     "collapsed": false,
     "input": [
      "#Simulation with the fitted stiffness\n",
      "simulatedTimeSeriesComparison = simulate_trap(dataPoints=2**19, timeStep=1/80000, viscosity=userViscosity, radius=userRadii[0], \n",
      "                                    temperature=userT, trapStiffness=fit.kappa[0])\n",
      "\n",
      "#Again, we are interested in the position of the bead, not in the time or the velocity\n",
      "#We have to multiply by the V/nm conversion factor (beta) from the fit to adjust scales\n",
      "\n",
      "simulatedTimeSeriesComparisonPosition = simulatedTimeSeriesComparison[\"x\"]*fit.beta[0]\n",
      "\n",
      "#Power Spectrum of the simulated data\n",
      "SimulationPsdComparison = calculate_psd(simulatedTimeSeriesComparisonPosition, blockLength, sFreq, overlap)\n",
      "\n",
      "#Thermal calibration of the simulated PSD\n",
      "fitPsdComparison = calibration_psd(SimulationPsdComparison, viscosity=userViscosity, T=userT,\n",
      "                       radius=userRadii[0], plot=True)\n"
     ],
     "language": "python",
     "metadata": {},
     "outputs": [],
     "prompt_number": 8
    },
    {
     "cell_type": "code",
     "collapsed": false,
     "input": [
      "\n",
      "#Plotting comparison:\n",
      "\n",
      "plt.plot(dataPsdComparison[\"f\"], dataPsdComparison[\"PSD\"], color=\"#a13c3d\", alpha=0.5, label=\"Measured\")\n",
      "plt.plot(SimulationPsdComparison[\"f\"], SimulationPsdComparison[\"PSD\"], alpha=0.5, label=\"Simulated\")\n",
      "plt.xscale(\"log\")\n",
      "plt.yscale(\"log\")\n",
      "legend=plt.legend(loc=3,frameon=True,fancybox=True,prop={'size':30})\n",
      "for legobj in legend.legendHandles:\n",
      "    legobj.set_linewidth(5.0)\n",
      "frame  = legend.get_frame()\n",
      "frame.set_lw('2.50')\n",
      "frame.set_facecolor('0.91')\n",
      "plt.show()"
     ],
     "language": "python",
     "metadata": {},
     "outputs": [],
     "prompt_number": 13
    },
    {
     "cell_type": "code",
     "collapsed": false,
     "input": [],
     "language": "python",
     "metadata": {},
     "outputs": []
    }
   ],
   "metadata": {}
  }
 ]
}