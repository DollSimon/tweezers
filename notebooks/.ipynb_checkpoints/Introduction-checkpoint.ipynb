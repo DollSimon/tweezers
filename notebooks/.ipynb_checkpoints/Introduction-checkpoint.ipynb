{
 "metadata": {
  "name": "",
  "signature": "sha256:3a002c557934c44b882ca76aec0360c0c13df0c767cdf0213a08f8eca1f0232e"
 },
 "nbformat": 3,
 "nbformat_minor": 0,
 "worksheets": [
  {
   "cells": [
    {
     "cell_type": "markdown",
     "metadata": {},
     "source": [
      "## Introduction to the `tweezer` package\n",
      "\n",
      "The idea of this series of notebooks is that of **live documentation**. This means:\n",
      "\n",
      "* showing how common tasks are performed\n",
      "* let the user play with the examples, and thus learning the syntax \n",
      "\n",
      "For this to work, a user should clone the `tweezer` repo, create a new branch, say **play**, and start working through the notebooks"
     ]
    },
    {
     "cell_type": "markdown",
     "metadata": {},
     "source": [
      "Let's get started!!!"
     ]
    },
    {
     "cell_type": "code",
     "collapsed": false,
     "input": [
      "import tweezer\n",
      "help(tweezer)"
     ],
     "language": "python",
     "metadata": {},
     "outputs": [
      {
       "output_type": "stream",
       "stream": "stdout",
       "text": [
        "Help on package tweezer:\n",
        "\n",
        "NAME\n",
        "    tweezer - Package for data analysis of optical trap experiments\n",
        "\n",
        "PACKAGE CONTENTS\n",
        "    bot (package)\n",
        "    cli (package)\n",
        "    core (package)\n",
        "    dia (package)\n",
        "    dual (package)\n",
        "    io\n",
        "    ixo (package)\n",
        "    lux (package)\n",
        "    math (package)\n",
        "    noise (package)\n",
        "    physics (package)\n",
        "    polymer (package)\n",
        "    rnap (package)\n",
        "    scripts (package)\n",
        "    simulate (package)\n",
        "    single (package)\n",
        "    statistics (package)\n",
        "\n",
        "DATA\n",
        "    __all__ = ['__init__', 'io']\n",
        "\n",
        "VERSION\n",
        "    (0, 0, 1)\n",
        "\n",
        "FILE\n",
        "    /Users/jahnel/anaconda/lib/python3.4/site-packages/tweezer-0.0.1-py3.4.egg/tweezer/__init__.py\n",
        "\n",
        "\n"
       ]
      }
     ],
     "prompt_number": 5
    },
    {
     "cell_type": "code",
     "collapsed": false,
     "input": [],
     "language": "python",
     "metadata": {},
     "outputs": []
    }
   ],
   "metadata": {}
  }
 ]
}