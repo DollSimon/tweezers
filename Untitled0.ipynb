{
 "metadata": {
  "name": ""
 },
 "nbformat": 3,
 "nbformat_minor": 0,
 "worksheets": [
  {
   "cells": [
    {
     "cell_type": "code",
     "collapsed": false,
     "input": [
      "def dynamic_viscosity_of_mixture(waterDynamicViscosity,\n",
      "                                 glycerolDynamicViscosity,\n",
      "                                 alpha):\n",
      "    \"\"\"\n",
      "    Power law equation for the dynamic viscosity of a water \\\n",
      "    to glycerol mixture according to:\n",
      "\n",
      "    \\mu = \\mu_{w}^{\\alpha} \\mu_{g}^{1 - \\alpha}\n",
      "\n",
      "    \"\"\"\n",
      "    mu = waterDynamicViscosity ** alpha *\\\n",
      "        glycerolDynamicViscosity ** (1 - alpha)\n",
      "    return mu\n"
     ],
     "language": "python",
     "metadata": {},
     "outputs": [],
     "prompt_number": 1
    },
    {
     "cell_type": "code",
     "collapsed": false,
     "input": [
      "dynamic_viscosity_of_mixture(3, 2, 0.4)"
     ],
     "language": "python",
     "metadata": {},
     "outputs": [
      {
       "metadata": {},
       "output_type": "pyout",
       "prompt_number": 4,
       "text": [
        "2.352158045049347"
       ]
      }
     ],
     "prompt_number": 4
    },
    {
     "cell_type": "code",
     "collapsed": false,
     "input": [
      "from math import exp as GGHH"
     ],
     "language": "python",
     "metadata": {},
     "outputs": [],
     "prompt_number": 5
    },
    {
     "cell_type": "code",
     "collapsed": false,
     "input": [
      "GGHH(4)"
     ],
     "language": "python",
     "metadata": {},
     "outputs": [
      {
       "metadata": {},
       "output_type": "pyout",
       "prompt_number": 6,
       "text": [
        "54.598150033144236"
       ]
      }
     ],
     "prompt_number": 6
    },
    {
     "cell_type": "code",
     "collapsed": false,
     "input": [
      "def calc_water_dynamic_viscosity(temperature):\n",
      "    \"\"\"\n",
      "    Calculates *mu_w*, the dynamic viscosity of water using the\\\n",
      "    interpolation formula of Cheng\n",
      "\n",
      "    :param temperature: in Celsius in the range [0, 100]\n",
      "\n",
      "    :return waterDynamicViscosity: Dynamic viscosity of water \\\n",
      "    in [0.001 N s / m^2]\n",
      "    \"\"\"\n",
      "    T = temperature\n",
      "    mu = 1.790 * exp(((-1230 - T) * T) / (36100 + 360 * T))\n",
      "    waterDynamicViscosity = mu\n",
      "    \n",
      "    return mu"
     ],
     "language": "python",
     "metadata": {},
     "outputs": [],
     "prompt_number": 9
    },
    {
     "cell_type": "code",
     "collapsed": false,
     "input": [
      "calc_water_dynamic_viscosity(35)"
     ],
     "language": "python",
     "metadata": {},
     "outputs": [
      {
       "metadata": {},
       "output_type": "pyout",
       "prompt_number": 10,
       "text": [
        "0.65850419969688179"
       ]
      }
     ],
     "prompt_number": 10
    },
    {
     "cell_type": "code",
     "collapsed": false,
     "input": [
      "from math import abs as AGDGD"
     ],
     "language": "python",
     "metadata": {},
     "outputs": [
      {
       "ename": "ImportError",
       "evalue": "cannot import name abs",
       "output_type": "pyerr",
       "traceback": [
        "\u001b[0;31m---------------------------------------------------------------------------\u001b[0m\n\u001b[0;31mImportError\u001b[0m                               Traceback (most recent call last)",
        "\u001b[0;32m<ipython-input-11-6c88e4aacbb3>\u001b[0m in \u001b[0;36m<module>\u001b[0;34m()\u001b[0m\n\u001b[0;32m----> 1\u001b[0;31m \u001b[0;32mfrom\u001b[0m \u001b[0mmath\u001b[0m \u001b[0;32mimport\u001b[0m \u001b[0mabs\u001b[0m \u001b[0;32mas\u001b[0m \u001b[0mAGDGD\u001b[0m\u001b[0;34m\u001b[0m\u001b[0m\n\u001b[0m",
        "\u001b[0;31mImportError\u001b[0m: cannot import name abs"
       ]
      }
     ],
     "prompt_number": 11
    },
    {
     "cell_type": "code",
     "collapsed": false,
     "input": [],
     "language": "python",
     "metadata": {},
     "outputs": []
    }
   ],
   "metadata": {}
  }
 ]
}